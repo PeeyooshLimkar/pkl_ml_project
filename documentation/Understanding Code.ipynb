{
 "cells": [
  {
   "cell_type": "code",
   "execution_count": 1,
   "id": "6e200a60",
   "metadata": {},
   "outputs": [
    {
     "data": {
      "text/plain": [
       "10"
      ]
     },
     "execution_count": 1,
     "metadata": {},
     "output_type": "execute_result"
    }
   ],
   "source": [
    "class A:\n",
    "    def __init__(self, a):\n",
    "        self.a = a\n",
    "        \n",
    "class B(A):\n",
    "    def __init__(self, b):\n",
    "        super(B, self).__init__(b)\n",
    "        \n",
    "ob = B(10)\n",
    "\n",
    "ob.a"
   ]
  },
  {
   "cell_type": "code",
   "execution_count": 2,
   "id": "70cd38e8",
   "metadata": {},
   "outputs": [
    {
     "data": {
      "text/plain": [
       "10"
      ]
     },
     "metadata": {},
     "output_type": "display_data"
    },
    {
     "data": {
      "text/plain": [
       "10"
      ]
     },
     "metadata": {},
     "output_type": "display_data"
    }
   ],
   "source": [
    "def set(p):\n",
    "    return p\n",
    "\n",
    "\n",
    "class A:\n",
    "    def __init__(self, a):\n",
    "        self.a = a\n",
    "        \n",
    "class B(A):\n",
    "    def __init__(self, b):\n",
    "        super().__init__(b)\n",
    "        self.b = set(b)\n",
    "        \n",
    "ob = B(10)\n",
    "\n",
    "display(\n",
    "    ob.a,\n",
    "    ob.b\n",
    ")"
   ]
  },
  {
   "cell_type": "code",
   "execution_count": 3,
   "id": "bc4299ec",
   "metadata": {},
   "outputs": [
    {
     "data": {
      "text/plain": [
       "10"
      ]
     },
     "metadata": {},
     "output_type": "display_data"
    },
    {
     "data": {
      "text/plain": [
       "10"
      ]
     },
     "metadata": {},
     "output_type": "display_data"
    }
   ],
   "source": [
    "def set(p):\n",
    "    return p\n",
    "\n",
    "\n",
    "class A:\n",
    "    def __init__(self, a):\n",
    "        self.a = a\n",
    "        \n",
    "class B(A):\n",
    "    def __init__(self, b):\n",
    "        super().__init__(b)\n",
    "        self.b = set(b)\n",
    "        \n",
    "ob = B(10)\n",
    "\n",
    "display(ob.a, ob.b)"
   ]
  },
  {
   "cell_type": "code",
   "execution_count": 4,
   "id": "14f4f5c5",
   "metadata": {},
   "outputs": [
    {
     "name": "stdout",
     "output_type": "stream",
     "text": [
      "2023-03-18 22:01:37.046858\n",
      "22:01:37.046858\n",
      "03_18_2023_22_01_37\n",
      "03_18_2023_22_01_37\n",
      "<class 'str'>\n",
      "<class 'str'>\n"
     ]
    }
   ],
   "source": [
    "from datetime import datetime\n",
    "\n",
    "print(datetime.now())\n",
    "print(datetime.now().time())\n",
    "# print(datetime.now().strftime())\n",
    "# # TypeError: strftime() missing required argument 'format' (pos 1)\n",
    "print(datetime.now().strftime('%m_%d_%Y_%H_%M_%S'))\n",
    "print(f\"{datetime.now().strftime('%m_%d_%Y_%H_%M_%S')}\")\n",
    "\n",
    "print(type(datetime.now().strftime('%m_%d_%Y_%H_%M_%S')))\n",
    "print(type(f\"{datetime.now().strftime('%m_%d_%Y_%H_%M_%S')}\"))"
   ]
  },
  {
   "cell_type": "code",
   "execution_count": 5,
   "id": "17b5aba5",
   "metadata": {},
   "outputs": [
    {
     "name": "stdout",
     "output_type": "stream",
     "text": [
      "(<class 'AttributeError'>, AttributeError(\"'datetime.datetime' object has no attribute 'str'\"), <traceback object at 0x00000161B9CDC700>)\n",
      "\n",
      "<class 'AttributeError'>\n",
      "\n",
      "'datetime.datetime' object has no attribute 'str'\n"
     ]
    }
   ],
   "source": [
    "from datetime import datetime\n",
    "import sys\n",
    "import pandas as pd\n",
    "\n",
    "try:\n",
    "    print(datetime.now().str)\n",
    "    pd.re(45)\n",
    "    \n",
    "except:\n",
    "    tb = sys.exc_info()\n",
    "    print(tb)\n",
    "    print()\n",
    "    print(tb[0])\n",
    "    print()\n",
    "    print(tb[1])"
   ]
  },
  {
   "cell_type": "code",
   "execution_count": 9,
   "id": "40baff84",
   "metadata": {},
   "outputs": [
    {
     "name": "stdout",
     "output_type": "stream",
     "text": [
      "    fname   lname\n",
      "0  piyush  limkar\n",
      "1   eesha  borkar\n",
      "2    anil    mali\n",
      "    fname   lname\n",
      "0  piyush  limkar\n",
      "1   eesha  borkar\n",
      "2    anil    mali\n"
     ]
    }
   ],
   "source": [
    "import pandas as pd\n",
    "\n",
    "data = {'fname' : ['piyush', 'eesha', 'anil'],\n",
    "        'lname' : ['limkar', 'borkar', 'mali']}\n",
    "\n",
    "df = pd.DataFrame(data)\n",
    "print(df)\n",
    "\n",
    "df.to_csv('''C:\\\\Users\\\\piyus\\\\GoogleDrive\\\\Data_Science\\\\Projects\\\n",
    "\\Temp\\\\pkl_ml_project\\\\documentation\\\\New folder\\\\df.csv''')\n",
    "\n",
    "df.to_csv('''C:\\\\Users\\\\piyus\\\\GoogleDrive\\\\Data_Science\\\\Projects\\\n",
    "\\Temp\\\\pkl_ml_project\\\\documentation\\\\New folder\\\\df1.csv''',\n",
    "          index = False, header = False)\n",
    "print(df)"
   ]
  }
 ],
 "metadata": {
  "kernelspec": {
   "display_name": "Python 3 (ipykernel)",
   "language": "python",
   "name": "python3"
  },
  "language_info": {
   "codemirror_mode": {
    "name": "ipython",
    "version": 3
   },
   "file_extension": ".py",
   "mimetype": "text/x-python",
   "name": "python",
   "nbconvert_exporter": "python",
   "pygments_lexer": "ipython3",
   "version": "3.9.16"
  }
 },
 "nbformat": 4,
 "nbformat_minor": 5
}
