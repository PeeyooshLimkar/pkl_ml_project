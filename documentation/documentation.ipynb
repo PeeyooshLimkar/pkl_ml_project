{
 "cells": [
  {
   "cell_type": "markdown",
   "id": "0d299654",
   "metadata": {},
   "source": [
    "<br>"
   ]
  },
  {
   "cell_type": "markdown",
   "id": "8a4ed94b",
   "metadata": {},
   "source": [
    "## Documentation"
   ]
  },
  {
   "cell_type": "markdown",
   "id": "e9eba0f6",
   "metadata": {},
   "source": [
    "<br>"
   ]
  },
  {
   "cell_type": "markdown",
   "id": "7fb80d1c",
   "metadata": {},
   "source": [
    "<br>"
   ]
  },
  {
   "cell_type": "markdown",
   "id": "82934300",
   "metadata": {},
   "source": [
    "1. Create GitHub Public Repository\n",
    "\n",
    "\n",
    "2. Create Local Project Folder\n",
    "\n",
    "\n",
    "3. Create Virtual Environment inside Project Folder\n",
    "    1. Open Anaconda Prompt\n",
    "    2. Go inside Project Folder\n",
    "    3. Fire Command\n",
    "    4. conda create -p venv_folder python==3.8 -y\n",
    "    5. To activate this environment, use\n",
    "        1. conda activate virtual_folder_name/\n",
    "        2. conda activate path_till_project_folder\n",
    "        e.g conda activate C:\\Users\\piyus\\GoogleDrive\\Data_Science\\Projects\\Temp\\pkl\\venv_folder\n",
    "        or\n",
    "        3. Inside_projrct_folder > conda activate venv_folder/\n",
    "        4. Inside_venv_folder > conda activate \n",
    "    6. To deactivate an active environment, use\n",
    "        1. conda deactivate\n",
    "\n",
    "<br>"
   ]
  },
  {
   "cell_type": "markdown",
   "id": "02261f48",
   "metadata": {},
   "source": [
    "4. Connect Git\n",
    "    1. git config --global user.name/email user_name/email\n",
    "    2. Fire command inside project folder :- git init\n",
    "    3. git remote add origin http://...(link to your repository)\n",
    "    \n",
    "\n",
    "5. Create, Add, Commit README.md file inside project folder and add,commit ad push it to remote repository.\n",
    "\n",
    "\n",
    "6. In remote GitHub Repository on web Create new file .gitignore select python  \n",
    "    1. Search **venv** in file .gitignore.\n",
    "    2. then fire **git pull origin master** inside project folder.\n",
    "\n",
    "<br>"
   ]
  },
  {
   "cell_type": "markdown",
   "id": "d2340d57",
   "metadata": {},
   "source": [
    "8. Create requirements.txt\n",
    "    1. Write all packages that you will require for building package/project.\n",
    "    2. At the end write **-e .** to tell that setup.py file exist call it and build it.\n",
    "    \n",
    "\n",
    "pip                           22.2.2\n",
    "\n",
    "sys                           3.9.13\n",
    "\n",
    "pandas                        1.5.1\n",
    "\n",
    "tidypandas                    0.2.4\n",
    "\n",
    "numpy                         1.23.4\n",
    "\n",
    "scipy                         1.9.1\n",
    "\n",
    "matplotlib                    3.5.2\n",
    "\n",
    "seaborn                       0.12.0\n",
    "\n",
    "plotly                        5.9.0\n",
    "\n",
    "missingno                     0.5.1\n",
    "\n",
    "<br>    "
   ]
  },
  {
   "cell_type": "markdown",
   "id": "cfc9558d",
   "metadata": {},
   "source": [
    "os, time, datatime"
   ]
  },
  {
   "cell_type": "markdown",
   "id": "18436ee1",
   "metadata": {},
   "source": [
    "9. Create setup.py\n",
    "    1. It is responsible in creating our machine learning application as a packege and that can be deployed in PyPi and can be installed and used by others.\n",
    "         \n",
    "    2. The setup script is the centre of all activity in building, distributing, and installing modules using the Distutils.\n",
    "        \n",
    "    3. The main purpose of the setup script is to describe your module distribution to the Distutils, so that the various commands that operate on your modules do the right thing.\n",
    "        \n",
    "    4. As we saw in section A Simple Example above, the setup script consists mainly of a call to setup(), and most information supplied to the Distutils by the module developer is supplied as keyword arguments to setup().\n",
    "    \n",
    "    5. Whenever find_packages() is running it will find every folder (src)which has __init__.py file. \n",
    "    \n",
    "    6. Then find_packages() will consider that respective folder(src) as a package and it will build that package.\n",
    "    \n",
    "    7. Once it get build you can use that folder as package i.e. install, import, uninstall.\n",
    "    \n",
    "    8. This will be possible only after you add/deploy it to PyPi.\n",
    "    \n",
    "    9. Our entire project development will be inside this folder.(src)\n",
    "    \n",
    "    10. Even if we create any sub folder in this main folder(src) we will create __init__.py file inside it, so that it will act as part of main package.\n",
    "    \n",
    "<br>\n",
    "\n",
    "https://docs.python.org/3/distutils/setupscript.html\n",
    "\n",
    "<br>"
   ]
  },
  {
   "cell_type": "markdown",
   "id": "dcb0e547",
   "metadata": {},
   "source": [
    "10. Open Command Prompt of venv:-\n",
    "\n",
    "    1. **pip install -r requirements.txt**"
   ]
  },
  {
   "cell_type": "markdown",
   "id": "9c58c561",
   "metadata": {},
   "source": [
    "11. git commit -a -m \"setup\"\n",
    "\n",
    "<br>"
   ]
  },
  {
   "cell_type": "markdown",
   "id": "5d0cfde9",
   "metadata": {},
   "source": []
  },
  {
   "cell_type": "markdown",
   "id": "0dd1e297",
   "metadata": {},
   "source": []
  },
  {
   "cell_type": "markdown",
   "id": "073a09a8",
   "metadata": {},
   "source": []
  },
  {
   "cell_type": "markdown",
   "id": "c0a5e6a5",
   "metadata": {},
   "source": [
    "<br>"
   ]
  },
  {
   "cell_type": "markdown",
   "id": "2e6fccbe",
   "metadata": {},
   "source": [
    "<br>"
   ]
  }
 ],
 "metadata": {
  "kernelspec": {
   "display_name": "Python 3 (ipykernel)",
   "language": "python",
   "name": "python3"
  },
  "language_info": {
   "codemirror_mode": {
    "name": "ipython",
    "version": 3
   },
   "file_extension": ".py",
   "mimetype": "text/x-python",
   "name": "python",
   "nbconvert_exporter": "python",
   "pygments_lexer": "ipython3",
   "version": "3.9.16"
  }
 },
 "nbformat": 4,
 "nbformat_minor": 5
}
